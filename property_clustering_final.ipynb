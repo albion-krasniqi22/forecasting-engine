{
 "cells": [
  {
   "cell_type": "code",
   "execution_count": 20,
   "metadata": {},
   "outputs": [],
   "source": [
    "# Import dependencies\n",
    "import pandas as pd\n",
    "from pathlib import Path\n",
    "import hvplot.pandas"
   ]
  },
  {
   "cell_type": "code",
   "execution_count": 21,
   "metadata": {},
   "outputs": [
    {
     "data": {
      "text/html": [
       "<div>\n",
       "<style scoped>\n",
       "    .dataframe tbody tr th:only-of-type {\n",
       "        vertical-align: middle;\n",
       "    }\n",
       "\n",
       "    .dataframe tbody tr th {\n",
       "        vertical-align: top;\n",
       "    }\n",
       "\n",
       "    .dataframe thead th {\n",
       "        text-align: right;\n",
       "    }\n",
       "</style>\n",
       "<table border=\"1\" class=\"dataframe\">\n",
       "  <thead>\n",
       "    <tr style=\"text-align: right;\">\n",
       "      <th></th>\n",
       "      <th>WEEK_START</th>\n",
       "      <th>ID</th>\n",
       "      <th>NAME</th>\n",
       "      <th>MSA</th>\n",
       "      <th>YEAR_BUILT</th>\n",
       "      <th>NER_T4</th>\n",
       "      <th>CONSTRUCTION_TYPE</th>\n",
       "    </tr>\n",
       "  </thead>\n",
       "  <tbody>\n",
       "    <tr>\n",
       "      <th>95115</th>\n",
       "      <td>2022-10-10</td>\n",
       "      <td>5e7e7f86573c70002fcd6196</td>\n",
       "      <td>Christopher Todd Communities At Country Place</td>\n",
       "      <td>Phoenix, AZ</td>\n",
       "      <td>2018</td>\n",
       "      <td>1711.277055</td>\n",
       "      <td>BTR/SFR</td>\n",
       "    </tr>\n",
       "    <tr>\n",
       "      <th>21331</th>\n",
       "      <td>2022-10-10</td>\n",
       "      <td>56ca8f47b8fc2f0e00b8016c</td>\n",
       "      <td>The Palisades at Paradise Valley Mall</td>\n",
       "      <td>Phoenix, AZ</td>\n",
       "      <td>1990</td>\n",
       "      <td>1776.898320</td>\n",
       "      <td>Garden</td>\n",
       "    </tr>\n",
       "    <tr>\n",
       "      <th>83962</th>\n",
       "      <td>2022-10-10</td>\n",
       "      <td>5a04dd9ddd8418001d408527</td>\n",
       "      <td>Peak 16</td>\n",
       "      <td>Phoenix, AZ</td>\n",
       "      <td>2017</td>\n",
       "      <td>1867.079398</td>\n",
       "      <td>Mid-rise</td>\n",
       "    </tr>\n",
       "    <tr>\n",
       "      <th>38688</th>\n",
       "      <td>2022-10-10</td>\n",
       "      <td>5778281acc8a0d0e00a53c9c</td>\n",
       "      <td>San Portella Apartments</td>\n",
       "      <td>Phoenix, AZ</td>\n",
       "      <td>2008</td>\n",
       "      <td>2011.178571</td>\n",
       "      <td>Garden</td>\n",
       "    </tr>\n",
       "    <tr>\n",
       "      <th>44510</th>\n",
       "      <td>2022-10-10</td>\n",
       "      <td>58dd528686f8a8000b02c124</td>\n",
       "      <td>Park Tower Apartments</td>\n",
       "      <td>Phoenix, AZ</td>\n",
       "      <td>1986</td>\n",
       "      <td>1534.266666</td>\n",
       "      <td>Garden</td>\n",
       "    </tr>\n",
       "  </tbody>\n",
       "</table>\n",
       "</div>"
      ],
      "text/plain": [
       "       WEEK_START                        ID  \\\n",
       "95115  2022-10-10  5e7e7f86573c70002fcd6196   \n",
       "21331  2022-10-10  56ca8f47b8fc2f0e00b8016c   \n",
       "83962  2022-10-10  5a04dd9ddd8418001d408527   \n",
       "38688  2022-10-10  5778281acc8a0d0e00a53c9c   \n",
       "44510  2022-10-10  58dd528686f8a8000b02c124   \n",
       "\n",
       "                                                NAME          MSA  YEAR_BUILT  \\\n",
       "95115  Christopher Todd Communities At Country Place  Phoenix, AZ        2018   \n",
       "21331          The Palisades at Paradise Valley Mall  Phoenix, AZ        1990   \n",
       "83962                                        Peak 16  Phoenix, AZ        2017   \n",
       "38688                        San Portella Apartments  Phoenix, AZ        2008   \n",
       "44510                          Park Tower Apartments  Phoenix, AZ        1986   \n",
       "\n",
       "            NER_T4 CONSTRUCTION_TYPE  \n",
       "95115  1711.277055           BTR/SFR  \n",
       "21331  1776.898320            Garden  \n",
       "83962  1867.079398          Mid-rise  \n",
       "38688  2011.178571            Garden  \n",
       "44510  1534.266666            Garden  "
      ]
     },
     "execution_count": 21,
     "metadata": {},
     "output_type": "execute_result"
    }
   ],
   "source": [
    "# Read in the CSV file as a Pandas DataFrame\n",
    "raot_cta_ner = pd.read_csv(\n",
    "    Path(\"../Resources/data.csv\")\n",
    ")\n",
    "\n",
    "raot_cta_ner['WEEK_START'] = pd.to_datetime(raot_cta_ner['WEEK_START']).dt.date\n",
    "raot_cta_ner = raot_cta_ner.sort_values(by='WEEK_START')\n",
    "\n",
    "# select rows where date is between given start/end date (inclusive)\n",
    "start_date = pd.to_datetime('10/10/2022')\n",
    "end_date = pd.to_datetime('10/16/2022')\n",
    "\n",
    "raot_cta_ner = raot_cta_ner.loc[\n",
    "    (raot_cta_ner['WEEK_START'] >= start_date) & (raot_cta_ner['WEEK_START'] <= end_date)]\n",
    "\n",
    "\n",
    "# Review the DataFrame\n",
    "raot_cta_ner.head()"
   ]
  },
  {
   "cell_type": "code",
   "execution_count": 22,
   "metadata": {},
   "outputs": [
    {
     "name": "stdout",
     "output_type": "stream",
     "text": [
      "602\n"
     ]
    }
   ],
   "source": [
    "raot_cta_ner = raot_cta_ner.drop_duplicates(subset=['ID'], keep='last')\n",
    "raot_cta_ner = raot_cta_ner.dropna()\n",
    "#raot_cta_ner = raot_cta_ner[raot_cta_ner['CONSTRUCTION_TYPE'] == 'Garden']\n",
    "print(raot_cta_ner['ID'].nunique())"
   ]
  },
  {
   "cell_type": "code",
   "execution_count": 23,
   "metadata": {},
   "outputs": [
    {
     "data": {
      "text/plain": [
       "Garden       490\n",
       "Mid-rise      89\n",
       "BTR/SFR        7\n",
       "Platform       6\n",
       "High-rise      6\n",
       "Wrap           4\n",
       "Name: CONSTRUCTION_TYPE, dtype: int64"
      ]
     },
     "execution_count": 23,
     "metadata": {},
     "output_type": "execute_result"
    }
   ],
   "source": [
    "raot_cta_ner['CONSTRUCTION_TYPE'].value_counts()\n",
    "#raot_cta_ner = raot_cta_ner[raot_cta_ner['CONSTRUCTION_TYPE'] == 'Garden']\n"
   ]
  },
  {
   "cell_type": "code",
   "execution_count": 24,
   "metadata": {},
   "outputs": [
    {
     "data": {
      "text/html": [
       "<div>\n",
       "<style scoped>\n",
       "    .dataframe tbody tr th:only-of-type {\n",
       "        vertical-align: middle;\n",
       "    }\n",
       "\n",
       "    .dataframe tbody tr th {\n",
       "        vertical-align: top;\n",
       "    }\n",
       "\n",
       "    .dataframe thead th {\n",
       "        text-align: right;\n",
       "    }\n",
       "</style>\n",
       "<table border=\"1\" class=\"dataframe\">\n",
       "  <thead>\n",
       "    <tr style=\"text-align: right;\">\n",
       "      <th></th>\n",
       "      <th>WEEK_START</th>\n",
       "      <th>ID</th>\n",
       "      <th>NAME</th>\n",
       "      <th>MSA</th>\n",
       "      <th>YEAR_BUILT</th>\n",
       "      <th>NER_T4</th>\n",
       "      <th>CONSTRUCTION_TYPE_Garden</th>\n",
       "      <th>CONSTRUCTION_TYPE_High-rise</th>\n",
       "      <th>CONSTRUCTION_TYPE_Mid-rise</th>\n",
       "      <th>CONSTRUCTION_TYPE_Platform</th>\n",
       "      <th>CONSTRUCTION_TYPE_Wrap</th>\n",
       "    </tr>\n",
       "  </thead>\n",
       "  <tbody>\n",
       "    <tr>\n",
       "      <th>0</th>\n",
       "      <td>2022-10-10</td>\n",
       "      <td>5e7e7f86573c70002fcd6196</td>\n",
       "      <td>Christopher Todd Communities At Country Place</td>\n",
       "      <td>Phoenix, AZ</td>\n",
       "      <td>2018</td>\n",
       "      <td>1711.277055</td>\n",
       "      <td>0</td>\n",
       "      <td>0</td>\n",
       "      <td>0</td>\n",
       "      <td>0</td>\n",
       "      <td>0</td>\n",
       "    </tr>\n",
       "    <tr>\n",
       "      <th>1</th>\n",
       "      <td>2022-10-10</td>\n",
       "      <td>56ca8f47b8fc2f0e00b8016c</td>\n",
       "      <td>The Palisades at Paradise Valley Mall</td>\n",
       "      <td>Phoenix, AZ</td>\n",
       "      <td>1990</td>\n",
       "      <td>1776.898320</td>\n",
       "      <td>1</td>\n",
       "      <td>0</td>\n",
       "      <td>0</td>\n",
       "      <td>0</td>\n",
       "      <td>0</td>\n",
       "    </tr>\n",
       "    <tr>\n",
       "      <th>2</th>\n",
       "      <td>2022-10-10</td>\n",
       "      <td>5a04dd9ddd8418001d408527</td>\n",
       "      <td>Peak 16</td>\n",
       "      <td>Phoenix, AZ</td>\n",
       "      <td>2017</td>\n",
       "      <td>1867.079398</td>\n",
       "      <td>0</td>\n",
       "      <td>0</td>\n",
       "      <td>1</td>\n",
       "      <td>0</td>\n",
       "      <td>0</td>\n",
       "    </tr>\n",
       "    <tr>\n",
       "      <th>3</th>\n",
       "      <td>2022-10-10</td>\n",
       "      <td>5778281acc8a0d0e00a53c9c</td>\n",
       "      <td>San Portella Apartments</td>\n",
       "      <td>Phoenix, AZ</td>\n",
       "      <td>2008</td>\n",
       "      <td>2011.178571</td>\n",
       "      <td>1</td>\n",
       "      <td>0</td>\n",
       "      <td>0</td>\n",
       "      <td>0</td>\n",
       "      <td>0</td>\n",
       "    </tr>\n",
       "    <tr>\n",
       "      <th>4</th>\n",
       "      <td>2022-10-10</td>\n",
       "      <td>58dd528686f8a8000b02c124</td>\n",
       "      <td>Park Tower Apartments</td>\n",
       "      <td>Phoenix, AZ</td>\n",
       "      <td>1986</td>\n",
       "      <td>1534.266666</td>\n",
       "      <td>1</td>\n",
       "      <td>0</td>\n",
       "      <td>0</td>\n",
       "      <td>0</td>\n",
       "      <td>0</td>\n",
       "    </tr>\n",
       "  </tbody>\n",
       "</table>\n",
       "</div>"
      ],
      "text/plain": [
       "   WEEK_START                        ID  \\\n",
       "0  2022-10-10  5e7e7f86573c70002fcd6196   \n",
       "1  2022-10-10  56ca8f47b8fc2f0e00b8016c   \n",
       "2  2022-10-10  5a04dd9ddd8418001d408527   \n",
       "3  2022-10-10  5778281acc8a0d0e00a53c9c   \n",
       "4  2022-10-10  58dd528686f8a8000b02c124   \n",
       "\n",
       "                                            NAME          MSA  YEAR_BUILT  \\\n",
       "0  Christopher Todd Communities At Country Place  Phoenix, AZ        2018   \n",
       "1          The Palisades at Paradise Valley Mall  Phoenix, AZ        1990   \n",
       "2                                        Peak 16  Phoenix, AZ        2017   \n",
       "3                        San Portella Apartments  Phoenix, AZ        2008   \n",
       "4                          Park Tower Apartments  Phoenix, AZ        1986   \n",
       "\n",
       "        NER_T4  CONSTRUCTION_TYPE_Garden  CONSTRUCTION_TYPE_High-rise  \\\n",
       "0  1711.277055                         0                            0   \n",
       "1  1776.898320                         1                            0   \n",
       "2  1867.079398                         0                            0   \n",
       "3  2011.178571                         1                            0   \n",
       "4  1534.266666                         1                            0   \n",
       "\n",
       "   CONSTRUCTION_TYPE_Mid-rise  CONSTRUCTION_TYPE_Platform  \\\n",
       "0                           0                           0   \n",
       "1                           0                           0   \n",
       "2                           1                           0   \n",
       "3                           0                           0   \n",
       "4                           0                           0   \n",
       "\n",
       "   CONSTRUCTION_TYPE_Wrap  \n",
       "0                       0  \n",
       "1                       0  \n",
       "2                       0  \n",
       "3                       0  \n",
       "4                       0  "
      ]
     },
     "execution_count": 24,
     "metadata": {},
     "output_type": "execute_result"
    }
   ],
   "source": [
    "raot_cta_ner = pd.get_dummies(raot_cta_ner,columns=['CONSTRUCTION_TYPE'],drop_first=True).reset_index(drop=True)\n",
    "raot_cta_ner.head()"
   ]
  },
  {
   "cell_type": "code",
   "execution_count": 25,
   "metadata": {},
   "outputs": [
    {
     "data": {
      "text/plain": [
       "0.6319003110862028"
      ]
     },
     "execution_count": 25,
     "metadata": {},
     "output_type": "execute_result"
    }
   ],
   "source": [
    "raot_cta_ner[\"NER_T4\"]. corr(raot_cta_ner[\"YEAR_BUILT\"])"
   ]
  },
  {
   "cell_type": "code",
   "execution_count": 26,
   "metadata": {},
   "outputs": [
    {
     "data": {},
     "metadata": {},
     "output_type": "display_data"
    },
    {
     "data": {
      "application/vnd.holoviews_exec.v0+json": "",
      "text/html": [
       "<div id='1124'>\n",
       "\n",
       "\n",
       "\n",
       "\n",
       "\n",
       "  <div class=\"bk-root\" id=\"469bd2c7-0393-4f26-8897-033058b25f44\" data-root-id=\"1124\"></div>\n",
       "</div>\n",
       "<script type=\"application/javascript\">(function(root) {\n",
       "  function embed_document(root) {\n",
       "    var docs_json = {\"b7705f7d-1c9e-4ce3-a2af-6d396a2ad203\":{\"defs\":[{\"extends\":null,\"module\":null,\"name\":\"ReactiveHTML1\",\"overrides\":[],\"properties\":[]},{\"extends\":null,\"module\":null,\"name\":\"FlexBox1\",\"overrides\":[],\"properties\":[{\"default\":\"flex-start\",\"kind\":null,\"name\":\"align_content\"},{\"default\":\"flex-start\",\"kind\":null,\"name\":\"align_items\"},{\"default\":\"row\",\"kind\":null,\"name\":\"flex_direction\"},{\"default\":\"wrap\",\"kind\":null,\"name\":\"flex_wrap\"},{\"default\":\"flex-start\",\"kind\":null,\"name\":\"justify_content\"}]},{\"extends\":null,\"module\":null,\"name\":\"GridStack1\",\"overrides\":[],\"properties\":[{\"default\":\"warn\",\"kind\":null,\"name\":\"mode\"},{\"default\":null,\"kind\":null,\"name\":\"ncols\"},{\"default\":null,\"kind\":null,\"name\":\"nrows\"},{\"default\":true,\"kind\":null,\"name\":\"allow_resize\"},{\"default\":true,\"kind\":null,\"name\":\"allow_drag\"},{\"default\":[],\"kind\":null,\"name\":\"state\"}]},{\"extends\":null,\"module\":null,\"name\":\"click1\",\"overrides\":[],\"properties\":[{\"default\":\"\",\"kind\":null,\"name\":\"terminal_output\"},{\"default\":\"\",\"kind\":null,\"name\":\"debug_name\"},{\"default\":0,\"kind\":null,\"name\":\"clears\"}]},{\"extends\":null,\"module\":null,\"name\":\"TemplateActions1\",\"overrides\":[],\"properties\":[{\"default\":0,\"kind\":null,\"name\":\"open_modal\"},{\"default\":0,\"kind\":null,\"name\":\"close_modal\"}]},{\"extends\":null,\"module\":null,\"name\":\"MaterialTemplateActions1\",\"overrides\":[],\"properties\":[{\"default\":0,\"kind\":null,\"name\":\"open_modal\"},{\"default\":0,\"kind\":null,\"name\":\"close_modal\"}]}],\"roots\":{\"references\":[{\"attributes\":{},\"id\":\"1134\",\"type\":\"LinearScale\"},{\"attributes\":{\"below\":[{\"id\":\"1138\"}],\"center\":[{\"id\":\"1141\"},{\"id\":\"1145\"}],\"height\":300,\"left\":[{\"id\":\"1142\"}],\"margin\":[5,5,5,5],\"min_border_bottom\":10,\"min_border_left\":10,\"min_border_right\":10,\"min_border_top\":10,\"renderers\":[{\"id\":\"1165\"}],\"sizing_mode\":\"fixed\",\"title\":{\"id\":\"1130\"},\"toolbar\":{\"id\":\"1152\"},\"width\":700,\"x_range\":{\"id\":\"1126\"},\"x_scale\":{\"id\":\"1134\"},\"y_range\":{\"id\":\"1127\"},\"y_scale\":{\"id\":\"1136\"}},\"id\":\"1129\",\"subtype\":\"Figure\",\"type\":\"Plot\"},{\"attributes\":{},\"id\":\"1148\",\"type\":\"WheelZoomTool\"},{\"attributes\":{\"margin\":[5,5,5,5],\"name\":\"HSpacer01827\",\"sizing_mode\":\"stretch_width\"},\"id\":\"1125\",\"type\":\"Spacer\"},{\"attributes\":{\"fill_color\":{\"value\":\"#30a2da\"},\"hatch_color\":{\"value\":\"#30a2da\"},\"line_color\":{\"value\":\"#30a2da\"},\"size\":{\"value\":5.477225575051661},\"x\":{\"field\":\"YEAR_BUILT\"},\"y\":{\"field\":\"NER_T4\"}},\"id\":\"1162\",\"type\":\"Scatter\"},{\"attributes\":{\"children\":[{\"id\":\"1125\"},{\"id\":\"1129\"},{\"id\":\"1194\"}],\"margin\":[0,0,0,0],\"name\":\"Row01823\",\"tags\":[\"embedded\"]},\"id\":\"1124\",\"type\":\"Row\"},{\"attributes\":{\"data\":{\"NER_T4\":{\"__ndarray__\":\"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\",\"dtype\":\"float64\",\"order\":\"little\",\"shape\":[602]},\"YEAR_BUILT\":[2018,1990,2017,2008,1986,1998,1983,1984,1983,2013,1985,2019,1999,2018,2005,1987,2001,1972,2020,1986,1985,2017,1974,2000,2018,2017,1985,2008,2018,1975,2016,1986,2008,2003,1998,2017,1996,2015,2004,1969,2001,1985,1984,2007,2015,2005,1998,1998,2014,2003,2017,1988,1983,1987,1985,2016,2003,1984,1983,1989,1962,1987,2017,1997,1985,2003,1973,1987,1984,2020,2006,1989,2005,2017,1981,1981,1986,2004,2020,1974,2020,1968,1985,1988,1999,2020,2019,1984,2009,1986,2013,1995,2018,1969,1980,1985,1985,2007,2000,2018,1970,1986,1980,1989,2014,2008,1985,2017,1998,1995,2009,1995,2017,2015,2019,2020,1988,2001,1985,1981,1999,2005,1998,1983,1975,1997,2017,2016,2003,2002,2019,1983,1983,2019,2013,2020,2010,1999,2020,2007,2008,1974,1999,1999,2016,1980,2007,2001,2003,2020,2014,2017,2018,2005,1963,2020,1974,1985,2009,1986,1999,1984,2016,1985,2019,1996,1979,1985,1997,1985,2016,1994,2017,1998,2018,1996,1986,1983,1989,1981,2001,2002,2017,2020,2018,1997,2013,2018,2006,1980,1986,2000,1983,2018,2013,1987,1971,2003,2006,1984,2004,2003,1985,2018,2018,2014,1996,2008,2016,1997,1988,2007,2007,2017,1986,1994,1991,1979,1963,2000,2007,2009,2018,1995,2017,2020,2001,2019,2013,2001,2014,2007,2019,2001,2000,2018,1994,2020,1997,2006,1998,1987,2019,1987,2014,2014,1984,1985,2016,1985,2016,1989,1986,1984,2002,1974,2009,1984,2001,2020,1984,1996,2017,1989,2014,1999,1984,1972,1999,1970,2001,1982,1986,1995,1978,1987,1973,1972,2001,2017,2014,1985,1985,2012,2018,2018,1983,1997,2015,2009,1984,1949,2009,1984,1989,1980,2020,1943,1996,1974,1994,1995,2001,2019,1983,1970,2018,1982,1984,2020,1971,1980,2014,2012,2020,1984,2006,1979,2019,2014,2019,1989,2019,1986,2017,1985,2015,1998,1997,2018,1964,1979,1971,2002,2001,2000,2016,2000,1998,2016,1998,2019,2015,2002,2000,2017,1996,1985,2001,2002,1970,1978,2017,1984,1975,1988,1990,2019,2000,1984,1979,2020,1982,2017,2017,1976,1966,1974,2000,2019,1979,2000,1986,1974,1988,2018,1980,1986,2004,2018,1973,2008,1973,2015,2017,1980,1984,1963,2019,1971,2007,2010,1999,1999,2016,2002,1963,1999,1975,1987,1986,1987,1978,1980,1986,2019,2007,1985,2014,1985,1986,2006,1990,1984,2019,1985,2017,2014,1996,2020,1999,1987,1997,2008,1985,1984,1994,2016,1995,2001,2020,1985,1994,2018,2016,2016,2010,2001,2020,2007,1987,1998,2007,2007,1983,2008,2015,1999,1985,2017,1987,2006,2018,2007,1972,2009,2020,2002,2009,2013,1974,2003,2001,2019,1975,2015,2005,1984,1999,1995,2020,2000,1998,1970,1998,2009,2001,2002,2019,1985,1982,1986,1971,1985,1985,1986,1983,1997,1992,1985,2014,1971,1986,1982,2009,2014,1986,1996,1998,2005,2000,1983,2015,2017,2001,1982,1979,2002,1971,2012,1985,1986,1980,1975,1998,1986,1964,2017,1979,1985,1989,2020,2004,1985,1977,1985,2019,2014,2017,2002,1980,1996,1983,1986,1985,1978,2019,2017,1989,2003,2018,2007,2004,1983,1984,2018,1986,2010,2001,1998,2008,2008,2018,2001,2016,2015,2008,2014,2000,1989,1985,1981,1970,1981,1999,2019,1982,2005,1995,1984,2000,2002,1984,1969,2001,1974,1987,2019,2001,1979,1999,1998,1985,1986,1989,1998,1986,1977,1972,2014,1986,2018,2007,2019,1982,1997,1982,2018,2015,2020,1982,1980]},\"selected\":{\"id\":\"1160\"},\"selection_policy\":{\"id\":\"1181\"}},\"id\":\"1159\",\"type\":\"ColumnDataSource\"},{\"attributes\":{\"axis\":{\"id\":\"1142\"},\"coordinates\":null,\"dimension\":1,\"grid_line_color\":null,\"group\":null,\"ticker\":null},\"id\":\"1145\",\"type\":\"Grid\"},{\"attributes\":{},\"id\":\"1143\",\"type\":\"BasicTicker\"},{\"attributes\":{\"axis\":{\"id\":\"1138\"},\"coordinates\":null,\"grid_line_color\":null,\"group\":null,\"ticker\":null},\"id\":\"1141\",\"type\":\"Grid\"},{\"attributes\":{\"fill_alpha\":{\"value\":0.1},\"fill_color\":{\"value\":\"#30a2da\"},\"hatch_alpha\":{\"value\":0.1},\"hatch_color\":{\"value\":\"#30a2da\"},\"line_alpha\":{\"value\":0.1},\"line_color\":{\"value\":\"#30a2da\"},\"size\":{\"value\":5.477225575051661},\"x\":{\"field\":\"YEAR_BUILT\"},\"y\":{\"field\":\"NER_T4\"}},\"id\":\"1163\",\"type\":\"Scatter\"},{\"attributes\":{},\"id\":\"1181\",\"type\":\"UnionRenderers\"},{\"attributes\":{},\"id\":\"1170\",\"type\":\"AllLabels\"},{\"attributes\":{},\"id\":\"1146\",\"type\":\"SaveTool\"},{\"attributes\":{},\"id\":\"1160\",\"type\":\"Selection\"},{\"attributes\":{\"axis_label\":\"NER_T4\",\"coordinates\":null,\"formatter\":{\"id\":\"1172\"},\"group\":null,\"major_label_policy\":{\"id\":\"1173\"},\"ticker\":{\"id\":\"1143\"}},\"id\":\"1142\",\"type\":\"LinearAxis\"},{\"attributes\":{\"axis_label\":\"YEAR_BUILT\",\"coordinates\":null,\"formatter\":{\"id\":\"1169\"},\"group\":null,\"major_label_policy\":{\"id\":\"1170\"},\"ticker\":{\"id\":\"1139\"}},\"id\":\"1138\",\"type\":\"LinearAxis\"},{\"attributes\":{},\"id\":\"1172\",\"type\":\"BasicTickFormatter\"},{\"attributes\":{},\"id\":\"1150\",\"type\":\"ResetTool\"},{\"attributes\":{\"angle\":{\"value\":0.0},\"fill_alpha\":{\"value\":1.0},\"fill_color\":{\"value\":\"#30a2da\"},\"hatch_alpha\":{\"value\":1.0},\"hatch_color\":{\"value\":\"#30a2da\"},\"hatch_scale\":{\"value\":12.0},\"hatch_weight\":{\"value\":1.0},\"line_alpha\":{\"value\":1.0},\"line_cap\":{\"value\":\"butt\"},\"line_color\":{\"value\":\"#30a2da\"},\"line_dash\":{\"value\":[]},\"line_dash_offset\":{\"value\":0},\"line_join\":{\"value\":\"bevel\"},\"line_width\":{\"value\":1},\"marker\":{\"value\":\"circle\"},\"size\":{\"value\":5.477225575051661},\"x\":{\"field\":\"YEAR_BUILT\"},\"y\":{\"field\":\"NER_T4\"}},\"id\":\"1167\",\"type\":\"Scatter\"},{\"attributes\":{\"coordinates\":null,\"data_source\":{\"id\":\"1159\"},\"glyph\":{\"id\":\"1162\"},\"group\":null,\"hover_glyph\":null,\"muted_glyph\":{\"id\":\"1164\"},\"nonselection_glyph\":{\"id\":\"1163\"},\"selection_glyph\":{\"id\":\"1167\"},\"view\":{\"id\":\"1166\"}},\"id\":\"1165\",\"type\":\"GlyphRenderer\"},{\"attributes\":{\"source\":{\"id\":\"1159\"}},\"id\":\"1166\",\"type\":\"CDSView\"},{\"attributes\":{\"overlay\":{\"id\":\"1151\"}},\"id\":\"1149\",\"type\":\"BoxZoomTool\"},{\"attributes\":{\"fill_alpha\":{\"value\":0.2},\"fill_color\":{\"value\":\"#30a2da\"},\"hatch_alpha\":{\"value\":0.2},\"hatch_color\":{\"value\":\"#30a2da\"},\"line_alpha\":{\"value\":0.2},\"line_color\":{\"value\":\"#30a2da\"},\"size\":{\"value\":5.477225575051661},\"x\":{\"field\":\"YEAR_BUILT\"},\"y\":{\"field\":\"NER_T4\"}},\"id\":\"1164\",\"type\":\"Scatter\"},{\"attributes\":{\"bottom_units\":\"screen\",\"coordinates\":null,\"fill_alpha\":0.5,\"fill_color\":\"lightgrey\",\"group\":null,\"left_units\":\"screen\",\"level\":\"overlay\",\"line_alpha\":1.0,\"line_color\":\"black\",\"line_dash\":[4,4],\"line_width\":2,\"right_units\":\"screen\",\"syncable\":false,\"top_units\":\"screen\"},\"id\":\"1151\",\"type\":\"BoxAnnotation\"},{\"attributes\":{\"margin\":[5,5,5,5],\"name\":\"HSpacer01828\",\"sizing_mode\":\"stretch_width\"},\"id\":\"1194\",\"type\":\"Spacer\"},{\"attributes\":{\"tools\":[{\"id\":\"1128\"},{\"id\":\"1146\"},{\"id\":\"1147\"},{\"id\":\"1148\"},{\"id\":\"1149\"},{\"id\":\"1150\"}]},\"id\":\"1152\",\"type\":\"Toolbar\"},{\"attributes\":{\"coordinates\":null,\"group\":null,\"text_color\":\"black\",\"text_font_size\":\"12pt\"},\"id\":\"1130\",\"type\":\"Title\"},{\"attributes\":{\"end\":2612.428679,\"reset_end\":2612.428679,\"reset_start\":797.664695,\"start\":797.664695,\"tags\":[[[\"NER_T4\",\"NER_T4\",null]]]},\"id\":\"1127\",\"type\":\"Range1d\"},{\"attributes\":{},\"id\":\"1169\",\"type\":\"BasicTickFormatter\"},{\"attributes\":{},\"id\":\"1136\",\"type\":\"LinearScale\"},{\"attributes\":{\"end\":2023.3,\"reset_end\":2023.3,\"reset_start\":1939.7,\"start\":1939.7,\"tags\":[[[\"YEAR_BUILT\",\"YEAR_BUILT\",null]]]},\"id\":\"1126\",\"type\":\"Range1d\"},{\"attributes\":{\"callback\":null,\"renderers\":[{\"id\":\"1165\"}],\"tags\":[\"hv_created\"],\"tooltips\":[[\"YEAR_BUILT\",\"@{YEAR_BUILT}\"],[\"NER_T4\",\"@{NER_T4}\"]]},\"id\":\"1128\",\"type\":\"HoverTool\"},{\"attributes\":{},\"id\":\"1173\",\"type\":\"AllLabels\"},{\"attributes\":{},\"id\":\"1139\",\"type\":\"BasicTicker\"},{\"attributes\":{},\"id\":\"1147\",\"type\":\"PanTool\"}],\"root_ids\":[\"1124\"]},\"title\":\"Bokeh Application\",\"version\":\"2.4.2\"}};\n",
       "    var render_items = [{\"docid\":\"b7705f7d-1c9e-4ce3-a2af-6d396a2ad203\",\"root_ids\":[\"1124\"],\"roots\":{\"1124\":\"469bd2c7-0393-4f26-8897-033058b25f44\"}}];\n",
       "    root.Bokeh.embed.embed_items_notebook(docs_json, render_items);\n",
       "  }\n",
       "  if (root.Bokeh !== undefined && root.Bokeh.Panel !== undefined) {\n",
       "    embed_document(root);\n",
       "  } else {\n",
       "    var attempts = 0;\n",
       "    var timer = setInterval(function(root) {\n",
       "      if (root.Bokeh !== undefined && root.Bokeh.Panel !== undefined) {\n",
       "        clearInterval(timer);\n",
       "        embed_document(root);\n",
       "      } else if (document.readyState == \"complete\") {\n",
       "        attempts++;\n",
       "        if (attempts > 200) {\n",
       "          clearInterval(timer);\n",
       "          console.log(\"Bokeh: ERROR: Unable to run BokehJS code because BokehJS library is missing\");\n",
       "        }\n",
       "      }\n",
       "    }, 25, root)\n",
       "  }\n",
       "})(window);</script>"
      ],
      "text/plain": [
       ":Scatter   [YEAR_BUILT]   (NER_T4)"
      ]
     },
     "execution_count": 26,
     "metadata": {
      "application/vnd.holoviews_exec.v0+json": {
       "id": "1124"
      }
     },
     "output_type": "execute_result"
    }
   ],
   "source": [
    "# Visualize a scatter plot of the data\n",
    "raot_cta_ner.hvplot.scatter(x=\"YEAR_BUILT\", y=\"NER_T4\")"
   ]
  },
  {
   "cell_type": "markdown",
   "metadata": {},
   "source": [
    "## Run the k-means model with 3 clusters"
   ]
  },
  {
   "cell_type": "code",
   "execution_count": 27,
   "metadata": {},
   "outputs": [],
   "source": [
    "# Start by importing the K-means algorithm\n",
    "from sklearn.cluster import KMeans"
   ]
  },
  {
   "cell_type": "code",
   "execution_count": 28,
   "metadata": {},
   "outputs": [
    {
     "data": {
      "text/html": [
       "<style>#sk-container-id-2 {color: black;background-color: white;}#sk-container-id-2 pre{padding: 0;}#sk-container-id-2 div.sk-toggleable {background-color: white;}#sk-container-id-2 label.sk-toggleable__label {cursor: pointer;display: block;width: 100%;margin-bottom: 0;padding: 0.3em;box-sizing: border-box;text-align: center;}#sk-container-id-2 label.sk-toggleable__label-arrow:before {content: \"▸\";float: left;margin-right: 0.25em;color: #696969;}#sk-container-id-2 label.sk-toggleable__label-arrow:hover:before {color: black;}#sk-container-id-2 div.sk-estimator:hover label.sk-toggleable__label-arrow:before {color: black;}#sk-container-id-2 div.sk-toggleable__content {max-height: 0;max-width: 0;overflow: hidden;text-align: left;background-color: #f0f8ff;}#sk-container-id-2 div.sk-toggleable__content pre {margin: 0.2em;color: black;border-radius: 0.25em;background-color: #f0f8ff;}#sk-container-id-2 input.sk-toggleable__control:checked~div.sk-toggleable__content {max-height: 200px;max-width: 100%;overflow: auto;}#sk-container-id-2 input.sk-toggleable__control:checked~label.sk-toggleable__label-arrow:before {content: \"▾\";}#sk-container-id-2 div.sk-estimator input.sk-toggleable__control:checked~label.sk-toggleable__label {background-color: #d4ebff;}#sk-container-id-2 div.sk-label input.sk-toggleable__control:checked~label.sk-toggleable__label {background-color: #d4ebff;}#sk-container-id-2 input.sk-hidden--visually {border: 0;clip: rect(1px 1px 1px 1px);clip: rect(1px, 1px, 1px, 1px);height: 1px;margin: -1px;overflow: hidden;padding: 0;position: absolute;width: 1px;}#sk-container-id-2 div.sk-estimator {font-family: monospace;background-color: #f0f8ff;border: 1px dotted black;border-radius: 0.25em;box-sizing: border-box;margin-bottom: 0.5em;}#sk-container-id-2 div.sk-estimator:hover {background-color: #d4ebff;}#sk-container-id-2 div.sk-parallel-item::after {content: \"\";width: 100%;border-bottom: 1px solid gray;flex-grow: 1;}#sk-container-id-2 div.sk-label:hover label.sk-toggleable__label {background-color: #d4ebff;}#sk-container-id-2 div.sk-serial::before {content: \"\";position: absolute;border-left: 1px solid gray;box-sizing: border-box;top: 0;bottom: 0;left: 50%;z-index: 0;}#sk-container-id-2 div.sk-serial {display: flex;flex-direction: column;align-items: center;background-color: white;padding-right: 0.2em;padding-left: 0.2em;position: relative;}#sk-container-id-2 div.sk-item {position: relative;z-index: 1;}#sk-container-id-2 div.sk-parallel {display: flex;align-items: stretch;justify-content: center;background-color: white;position: relative;}#sk-container-id-2 div.sk-item::before, #sk-container-id-2 div.sk-parallel-item::before {content: \"\";position: absolute;border-left: 1px solid gray;box-sizing: border-box;top: 0;bottom: 0;left: 50%;z-index: -1;}#sk-container-id-2 div.sk-parallel-item {display: flex;flex-direction: column;z-index: 1;position: relative;background-color: white;}#sk-container-id-2 div.sk-parallel-item:first-child::after {align-self: flex-end;width: 50%;}#sk-container-id-2 div.sk-parallel-item:last-child::after {align-self: flex-start;width: 50%;}#sk-container-id-2 div.sk-parallel-item:only-child::after {width: 0;}#sk-container-id-2 div.sk-dashed-wrapped {border: 1px dashed gray;margin: 0 0.4em 0.5em 0.4em;box-sizing: border-box;padding-bottom: 0.4em;background-color: white;}#sk-container-id-2 div.sk-label label {font-family: monospace;font-weight: bold;display: inline-block;line-height: 1.2em;}#sk-container-id-2 div.sk-label-container {text-align: center;}#sk-container-id-2 div.sk-container {/* jupyter's `normalize.less` sets `[hidden] { display: none; }` but bootstrap.min.css set `[hidden] { display: none !important; }` so we also need the `!important` here to be able to override the default hidden behavior on the sphinx rendered scikit-learn.org. See: https://github.com/scikit-learn/scikit-learn/issues/21755 */display: inline-block !important;position: relative;}#sk-container-id-2 div.sk-text-repr-fallback {display: none;}</style><div id=\"sk-container-id-2\" class=\"sk-top-container\"><div class=\"sk-text-repr-fallback\"><pre>KMeans(n_clusters=3, random_state=1)</pre><b>In a Jupyter environment, please rerun this cell to show the HTML representation or trust the notebook. <br />On GitHub, the HTML representation is unable to render, please try loading this page with nbviewer.org.</b></div><div class=\"sk-container\" hidden><div class=\"sk-item\"><div class=\"sk-estimator sk-toggleable\"><input class=\"sk-toggleable__control sk-hidden--visually\" id=\"sk-estimator-id-2\" type=\"checkbox\" checked><label for=\"sk-estimator-id-2\" class=\"sk-toggleable__label sk-toggleable__label-arrow\">KMeans</label><div class=\"sk-toggleable__content\"><pre>KMeans(n_clusters=3, random_state=1)</pre></div></div></div></div></div>"
      ],
      "text/plain": [
       "KMeans(n_clusters=3, random_state=1)"
      ]
     },
     "execution_count": 28,
     "metadata": {},
     "output_type": "execute_result"
    }
   ],
   "source": [
    "# Create and initialize the K-means model instance for 3 clusters\n",
    "model = KMeans(n_clusters=3, random_state=1)\n",
    "\n",
    "# Print the model\n",
    "model"
   ]
  },
  {
   "cell_type": "code",
   "execution_count": 29,
   "metadata": {},
   "outputs": [
    {
     "data": {
      "text/plain": [
       "Index(['WEEK_START', 'ID', 'NAME', 'MSA', 'YEAR_BUILT', 'NER_T4',\n",
       "       'CONSTRUCTION_TYPE_Garden', 'CONSTRUCTION_TYPE_High-rise',\n",
       "       'CONSTRUCTION_TYPE_Mid-rise', 'CONSTRUCTION_TYPE_Platform',\n",
       "       'CONSTRUCTION_TYPE_Wrap'],\n",
       "      dtype='object')"
      ]
     },
     "execution_count": 29,
     "metadata": {},
     "output_type": "execute_result"
    }
   ],
   "source": [
    "raot_cta_ner.columns"
   ]
  },
  {
   "cell_type": "code",
   "execution_count": 30,
   "metadata": {},
   "outputs": [],
   "source": [
    "# Fit the data to the instance of the model\n",
    "#year_and_ner = raot_cta_ner[[\"YEAR_BUILT\", \"NER_T4\", 'CONSTRUCTION_TYPE_Garden',\n",
    "#                        'CONSTRUCTION_TYPE_High-rise', 'CONSTRUCTION_TYPE_Mid-rise', \n",
    "#                        'CONSTRUCTION_TYPE_Platform', 'CONSTRUCTION_TYPE_Wrap']]\n",
    "\n",
    "year_and_ner = raot_cta_ner[[\"YEAR_BUILT\", \"NER_T4\"]]"
   ]
  },
  {
   "cell_type": "code",
   "execution_count": 32,
   "metadata": {},
   "outputs": [],
   "source": [
    "from sklearn.preprocessing import StandardScaler\n",
    "\n",
    "# Instantiate a StandardScaler instance\n",
    "scaler = StandardScaler()\n",
    "\n",
    "# Fit the training data to the standard scaler\n",
    "X_scaler = scaler.fit(year_and_ner)\n",
    "\n",
    "# Transform the training data using the scaler\n",
    "year_and_ner_scaled = X_scaler.transform(year_and_ner)"
   ]
  },
  {
   "cell_type": "code",
   "execution_count": 33,
   "metadata": {},
   "outputs": [
    {
     "data": {
      "text/plain": [
       "array([[ 1.30150834,  0.12492686],\n",
       "       [-0.4890748 ,  0.34489485],\n",
       "       [ 1.23755895,  0.64718938],\n",
       "       ...,\n",
       "       [ 1.42940714,  0.8532466 ],\n",
       "       [-1.00066998, -1.388266  ],\n",
       "       [-1.12856878, -1.31483134]])"
      ]
     },
     "execution_count": 33,
     "metadata": {},
     "output_type": "execute_result"
    }
   ],
   "source": [
    "year_and_ner_scaled"
   ]
  },
  {
   "cell_type": "code",
   "execution_count": 34,
   "metadata": {},
   "outputs": [
    {
     "name": "stderr",
     "output_type": "stream",
     "text": [
      "C:\\Users\\albio\\anaconda3\\lib\\site-packages\\sklearn\\cluster\\_kmeans.py:1332: UserWarning: KMeans is known to have a memory leak on Windows with MKL, when there are less chunks than available threads. You can avoid it by setting the environment variable OMP_NUM_THREADS=3.\n",
      "  warnings.warn(\n"
     ]
    },
    {
     "data": {
      "text/html": [
       "<style>#sk-container-id-3 {color: black;background-color: white;}#sk-container-id-3 pre{padding: 0;}#sk-container-id-3 div.sk-toggleable {background-color: white;}#sk-container-id-3 label.sk-toggleable__label {cursor: pointer;display: block;width: 100%;margin-bottom: 0;padding: 0.3em;box-sizing: border-box;text-align: center;}#sk-container-id-3 label.sk-toggleable__label-arrow:before {content: \"▸\";float: left;margin-right: 0.25em;color: #696969;}#sk-container-id-3 label.sk-toggleable__label-arrow:hover:before {color: black;}#sk-container-id-3 div.sk-estimator:hover label.sk-toggleable__label-arrow:before {color: black;}#sk-container-id-3 div.sk-toggleable__content {max-height: 0;max-width: 0;overflow: hidden;text-align: left;background-color: #f0f8ff;}#sk-container-id-3 div.sk-toggleable__content pre {margin: 0.2em;color: black;border-radius: 0.25em;background-color: #f0f8ff;}#sk-container-id-3 input.sk-toggleable__control:checked~div.sk-toggleable__content {max-height: 200px;max-width: 100%;overflow: auto;}#sk-container-id-3 input.sk-toggleable__control:checked~label.sk-toggleable__label-arrow:before {content: \"▾\";}#sk-container-id-3 div.sk-estimator input.sk-toggleable__control:checked~label.sk-toggleable__label {background-color: #d4ebff;}#sk-container-id-3 div.sk-label input.sk-toggleable__control:checked~label.sk-toggleable__label {background-color: #d4ebff;}#sk-container-id-3 input.sk-hidden--visually {border: 0;clip: rect(1px 1px 1px 1px);clip: rect(1px, 1px, 1px, 1px);height: 1px;margin: -1px;overflow: hidden;padding: 0;position: absolute;width: 1px;}#sk-container-id-3 div.sk-estimator {font-family: monospace;background-color: #f0f8ff;border: 1px dotted black;border-radius: 0.25em;box-sizing: border-box;margin-bottom: 0.5em;}#sk-container-id-3 div.sk-estimator:hover {background-color: #d4ebff;}#sk-container-id-3 div.sk-parallel-item::after {content: \"\";width: 100%;border-bottom: 1px solid gray;flex-grow: 1;}#sk-container-id-3 div.sk-label:hover label.sk-toggleable__label {background-color: #d4ebff;}#sk-container-id-3 div.sk-serial::before {content: \"\";position: absolute;border-left: 1px solid gray;box-sizing: border-box;top: 0;bottom: 0;left: 50%;z-index: 0;}#sk-container-id-3 div.sk-serial {display: flex;flex-direction: column;align-items: center;background-color: white;padding-right: 0.2em;padding-left: 0.2em;position: relative;}#sk-container-id-3 div.sk-item {position: relative;z-index: 1;}#sk-container-id-3 div.sk-parallel {display: flex;align-items: stretch;justify-content: center;background-color: white;position: relative;}#sk-container-id-3 div.sk-item::before, #sk-container-id-3 div.sk-parallel-item::before {content: \"\";position: absolute;border-left: 1px solid gray;box-sizing: border-box;top: 0;bottom: 0;left: 50%;z-index: -1;}#sk-container-id-3 div.sk-parallel-item {display: flex;flex-direction: column;z-index: 1;position: relative;background-color: white;}#sk-container-id-3 div.sk-parallel-item:first-child::after {align-self: flex-end;width: 50%;}#sk-container-id-3 div.sk-parallel-item:last-child::after {align-self: flex-start;width: 50%;}#sk-container-id-3 div.sk-parallel-item:only-child::after {width: 0;}#sk-container-id-3 div.sk-dashed-wrapped {border: 1px dashed gray;margin: 0 0.4em 0.5em 0.4em;box-sizing: border-box;padding-bottom: 0.4em;background-color: white;}#sk-container-id-3 div.sk-label label {font-family: monospace;font-weight: bold;display: inline-block;line-height: 1.2em;}#sk-container-id-3 div.sk-label-container {text-align: center;}#sk-container-id-3 div.sk-container {/* jupyter's `normalize.less` sets `[hidden] { display: none; }` but bootstrap.min.css set `[hidden] { display: none !important; }` so we also need the `!important` here to be able to override the default hidden behavior on the sphinx rendered scikit-learn.org. See: https://github.com/scikit-learn/scikit-learn/issues/21755 */display: inline-block !important;position: relative;}#sk-container-id-3 div.sk-text-repr-fallback {display: none;}</style><div id=\"sk-container-id-3\" class=\"sk-top-container\"><div class=\"sk-text-repr-fallback\"><pre>KMeans(n_clusters=3, random_state=1)</pre><b>In a Jupyter environment, please rerun this cell to show the HTML representation or trust the notebook. <br />On GitHub, the HTML representation is unable to render, please try loading this page with nbviewer.org.</b></div><div class=\"sk-container\" hidden><div class=\"sk-item\"><div class=\"sk-estimator sk-toggleable\"><input class=\"sk-toggleable__control sk-hidden--visually\" id=\"sk-estimator-id-3\" type=\"checkbox\" checked><label for=\"sk-estimator-id-3\" class=\"sk-toggleable__label sk-toggleable__label-arrow\">KMeans</label><div class=\"sk-toggleable__content\"><pre>KMeans(n_clusters=3, random_state=1)</pre></div></div></div></div></div>"
      ],
      "text/plain": [
       "KMeans(n_clusters=3, random_state=1)"
      ]
     },
     "execution_count": 34,
     "metadata": {},
     "output_type": "execute_result"
    }
   ],
   "source": [
    "model.fit(year_and_ner_scaled)"
   ]
  },
  {
   "cell_type": "code",
   "execution_count": 39,
   "metadata": {},
   "outputs": [
    {
     "data": {
      "text/html": [
       "<div>\n",
       "<style scoped>\n",
       "    .dataframe tbody tr th:only-of-type {\n",
       "        vertical-align: middle;\n",
       "    }\n",
       "\n",
       "    .dataframe tbody tr th {\n",
       "        vertical-align: top;\n",
       "    }\n",
       "\n",
       "    .dataframe thead th {\n",
       "        text-align: right;\n",
       "    }\n",
       "</style>\n",
       "<table border=\"1\" class=\"dataframe\">\n",
       "  <thead>\n",
       "    <tr style=\"text-align: right;\">\n",
       "      <th></th>\n",
       "      <th>NAME</th>\n",
       "      <th>ID</th>\n",
       "      <th>YEAR_BUILT</th>\n",
       "      <th>NER_T4</th>\n",
       "      <th>property ratings</th>\n",
       "    </tr>\n",
       "  </thead>\n",
       "  <tbody>\n",
       "    <tr>\n",
       "      <th>0</th>\n",
       "      <td>Christopher Todd Communities At Country Place</td>\n",
       "      <td>5e7e7f86573c70002fcd6196</td>\n",
       "      <td>2018</td>\n",
       "      <td>1711.277055</td>\n",
       "      <td>A</td>\n",
       "    </tr>\n",
       "    <tr>\n",
       "      <th>1</th>\n",
       "      <td>The Palisades at Paradise Valley Mall</td>\n",
       "      <td>56ca8f47b8fc2f0e00b8016c</td>\n",
       "      <td>1990</td>\n",
       "      <td>1776.898320</td>\n",
       "      <td>B</td>\n",
       "    </tr>\n",
       "    <tr>\n",
       "      <th>2</th>\n",
       "      <td>Peak 16</td>\n",
       "      <td>5a04dd9ddd8418001d408527</td>\n",
       "      <td>2017</td>\n",
       "      <td>1867.079398</td>\n",
       "      <td>A</td>\n",
       "    </tr>\n",
       "    <tr>\n",
       "      <th>3</th>\n",
       "      <td>San Portella Apartments</td>\n",
       "      <td>5778281acc8a0d0e00a53c9c</td>\n",
       "      <td>2008</td>\n",
       "      <td>2011.178571</td>\n",
       "      <td>A</td>\n",
       "    </tr>\n",
       "    <tr>\n",
       "      <th>4</th>\n",
       "      <td>Park Tower Apartments</td>\n",
       "      <td>58dd528686f8a8000b02c124</td>\n",
       "      <td>1986</td>\n",
       "      <td>1534.266666</td>\n",
       "      <td>C</td>\n",
       "    </tr>\n",
       "  </tbody>\n",
       "</table>\n",
       "</div>"
      ],
      "text/plain": [
       "                                            NAME                        ID  \\\n",
       "0  Christopher Todd Communities At Country Place  5e7e7f86573c70002fcd6196   \n",
       "1          The Palisades at Paradise Valley Mall  56ca8f47b8fc2f0e00b8016c   \n",
       "2                                        Peak 16  5a04dd9ddd8418001d408527   \n",
       "3                        San Portella Apartments  5778281acc8a0d0e00a53c9c   \n",
       "4                          Park Tower Apartments  58dd528686f8a8000b02c124   \n",
       "\n",
       "   YEAR_BUILT       NER_T4 property ratings  \n",
       "0        2018  1711.277055                A  \n",
       "1        1990  1776.898320                B  \n",
       "2        2017  1867.079398                A  \n",
       "3        2008  2011.178571                A  \n",
       "4        1986  1534.266666                C  "
      ]
     },
     "execution_count": 39,
     "metadata": {},
     "output_type": "execute_result"
    }
   ],
   "source": [
    "# Make predictions about the data clusters using the trained model\n",
    "property_ratings = model.predict(year_and_ner_scaled)\n",
    "\n",
    "# Create a copy of the DataFrame\n",
    "year_and_ner_predictions_df = year_and_ner.copy()\n",
    "\n",
    "# Add a column to the DataFrame that contains the customer_ratings information\n",
    "year_and_ner_predictions_df['property ratings'] = property_ratings\n",
    "\n",
    "# Difine Dict with the key-value pair to remap.\n",
    "map_dict = {0 : 'A', 1 : 'C', 2: 'B'}\n",
    "year_and_ner_predictions_df=year_and_ner_predictions_df.replace({\"property ratings\": map_dict})\n",
    "\n",
    "# Review the DataFrame\n",
    "property_data = raot_cta_ner[['NAME', 'ID']]\n",
    "result = pd.merge(property_data, year_and_ner_predictions_df, left_index=True, right_index=True, how='outer')\n",
    "result.head()"
   ]
  },
  {
   "cell_type": "code",
   "execution_count": 40,
   "metadata": {},
   "outputs": [
    {
     "data": {},
     "metadata": {},
     "output_type": "display_data"
    },
    {
     "data": {
      "application/vnd.holoviews_exec.v0+json": "",
      "text/html": [
       "<div id='1246'>\n",
       "\n",
       "\n",
       "\n",
       "\n",
       "\n",
       "  <div class=\"bk-root\" id=\"847ed16d-23fc-441e-a557-0045a6992bf6\" data-root-id=\"1246\"></div>\n",
       "</div>\n",
       "<script type=\"application/javascript\">(function(root) {\n",
       "  function embed_document(root) {\n",
       "    var docs_json = {\"2bc86372-dc32-4b44-9a86-92025d8e0c83\":{\"defs\":[{\"extends\":null,\"module\":null,\"name\":\"ReactiveHTML1\",\"overrides\":[],\"properties\":[]},{\"extends\":null,\"module\":null,\"name\":\"FlexBox1\",\"overrides\":[],\"properties\":[{\"default\":\"flex-start\",\"kind\":null,\"name\":\"align_content\"},{\"default\":\"flex-start\",\"kind\":null,\"name\":\"align_items\"},{\"default\":\"row\",\"kind\":null,\"name\":\"flex_direction\"},{\"default\":\"wrap\",\"kind\":null,\"name\":\"flex_wrap\"},{\"default\":\"flex-start\",\"kind\":null,\"name\":\"justify_content\"}]},{\"extends\":null,\"module\":null,\"name\":\"GridStack1\",\"overrides\":[],\"properties\":[{\"default\":\"warn\",\"kind\":null,\"name\":\"mode\"},{\"default\":null,\"kind\":null,\"name\":\"ncols\"},{\"default\":null,\"kind\":null,\"name\":\"nrows\"},{\"default\":true,\"kind\":null,\"name\":\"allow_resize\"},{\"default\":true,\"kind\":null,\"name\":\"allow_drag\"},{\"default\":[],\"kind\":null,\"name\":\"state\"}]},{\"extends\":null,\"module\":null,\"name\":\"click1\",\"overrides\":[],\"properties\":[{\"default\":\"\",\"kind\":null,\"name\":\"terminal_output\"},{\"default\":\"\",\"kind\":null,\"name\":\"debug_name\"},{\"default\":0,\"kind\":null,\"name\":\"clears\"}]},{\"extends\":null,\"module\":null,\"name\":\"TemplateActions1\",\"overrides\":[],\"properties\":[{\"default\":0,\"kind\":null,\"name\":\"open_modal\"},{\"default\":0,\"kind\":null,\"name\":\"close_modal\"}]},{\"extends\":null,\"module\":null,\"name\":\"MaterialTemplateActions1\",\"overrides\":[],\"properties\":[{\"default\":0,\"kind\":null,\"name\":\"open_modal\"},{\"default\":0,\"kind\":null,\"name\":\"close_modal\"}]}],\"roots\":{\"references\":[{\"attributes\":{},\"id\":\"1304\",\"type\":\"UnionRenderers\"},{\"attributes\":{\"data\":{\"NER_T4\":{\"__ndarray__\":\"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\",\"dtype\":\"float64\",\"order\":\"little\",\"shape\":[221]},\"YEAR_BUILT\":[1990,1985,1999,2005,1987,2001,2008,2008,2003,1998,1996,2004,2001,1984,1998,1998,2003,2003,1984,1989,1997,1985,1987,1984,2006,2005,2004,1968,2009,1995,2007,2000,1986,1989,2014,2008,1998,2009,1995,1988,2001,1985,1999,2005,1998,1997,2003,2002,2010,1999,2007,1999,1999,2007,2001,2003,2005,2009,1999,1996,1997,1994,1998,1996,2002,1997,2006,2000,2003,2006,2004,2003,1996,2008,1997,1988,2007,1986,1994,1991,2000,2007,1995,2001,2001,2007,2001,2000,1994,1997,2006,1998,1987,2014,1985,1989,2002,2009,2001,1996,1989,1999,1999,2001,1995,2001,1983,1997,2009,2009,1989,1996,1994,1995,2006,1989,2017,1998,1997,2002,2001,2000,2000,1998,1998,2002,2000,1996,1985,2001,2002,1990,2000,1984,2000,2000,1986,1988,2004,2008,2007,2010,1999,2002,1999,1987,1986,2007,2006,1990,1996,1999,1987,1997,2008,1994,1995,2001,2020,1994,2010,2001,1987,1998,2007,2007,2008,1999,2006,2007,2009,2001,2005,1984,1999,1995,2000,1998,1998,2009,2001,2002,1986,1997,1992,2009,1996,1998,2005,2000,2001,2002,2012,1998,2017,1989,2004,2002,1996,2003,2007,2004,2010,2001,1998,2008,2001,2008,2000,1995,2000,2002,2001,1987,2001,1999,1998,1989,1998,2007,1997],\"property_ratings\":[\"B\",\"B\",\"B\",\"B\",\"B\",\"B\",\"B\",\"B\",\"B\",\"B\",\"B\",\"B\",\"B\",\"B\",\"B\",\"B\",\"B\",\"B\",\"B\",\"B\",\"B\",\"B\",\"B\",\"B\",\"B\",\"B\",\"B\",\"B\",\"B\",\"B\",\"B\",\"B\",\"B\",\"B\",\"B\",\"B\",\"B\",\"B\",\"B\",\"B\",\"B\",\"B\",\"B\",\"B\",\"B\",\"B\",\"B\",\"B\",\"B\",\"B\",\"B\",\"B\",\"B\",\"B\",\"B\",\"B\",\"B\",\"B\",\"B\",\"B\",\"B\",\"B\",\"B\",\"B\",\"B\",\"B\",\"B\",\"B\",\"B\",\"B\",\"B\",\"B\",\"B\",\"B\",\"B\",\"B\",\"B\",\"B\",\"B\",\"B\",\"B\",\"B\",\"B\",\"B\",\"B\",\"B\",\"B\",\"B\",\"B\",\"B\",\"B\",\"B\",\"B\",\"B\",\"B\",\"B\",\"B\",\"B\",\"B\",\"B\",\"B\",\"B\",\"B\",\"B\",\"B\",\"B\",\"B\",\"B\",\"B\",\"B\",\"B\",\"B\",\"B\",\"B\",\"B\",\"B\",\"B\",\"B\",\"B\",\"B\",\"B\",\"B\",\"B\",\"B\",\"B\",\"B\",\"B\",\"B\",\"B\",\"B\",\"B\",\"B\",\"B\",\"B\",\"B\",\"B\",\"B\",\"B\",\"B\",\"B\",\"B\",\"B\",\"B\",\"B\",\"B\",\"B\",\"B\",\"B\",\"B\",\"B\",\"B\",\"B\",\"B\",\"B\",\"B\",\"B\",\"B\",\"B\",\"B\",\"B\",\"B\",\"B\",\"B\",\"B\",\"B\",\"B\",\"B\",\"B\",\"B\",\"B\",\"B\",\"B\",\"B\",\"B\",\"B\",\"B\",\"B\",\"B\",\"B\",\"B\",\"B\",\"B\",\"B\",\"B\",\"B\",\"B\",\"B\",\"B\",\"B\",\"B\",\"B\",\"B\",\"B\",\"B\",\"B\",\"B\",\"B\",\"B\",\"B\",\"B\",\"B\",\"B\",\"B\",\"B\",\"B\",\"B\",\"B\",\"B\",\"B\",\"B\",\"B\",\"B\",\"B\",\"B\",\"B\",\"B\",\"B\",\"B\",\"B\",\"B\",\"B\"]},\"selected\":{\"id\":\"1311\"},\"selection_policy\":{\"id\":\"1327\"}},\"id\":\"1310\",\"type\":\"ColumnDataSource\"},{\"attributes\":{},\"id\":\"1327\",\"type\":\"UnionRenderers\"},{\"attributes\":{},\"id\":\"1258\",\"type\":\"LinearScale\"},{\"attributes\":{\"fill_alpha\":{\"value\":0.1},\"fill_color\":{\"value\":\"#30a2da\"},\"hatch_alpha\":{\"value\":0.1},\"hatch_color\":{\"value\":\"#30a2da\"},\"line_alpha\":{\"value\":0.1},\"line_color\":{\"value\":\"#30a2da\"},\"size\":{\"value\":5.477225575051661},\"x\":{\"field\":\"YEAR_BUILT\"},\"y\":{\"field\":\"NER_T4\"}},\"id\":\"1293\",\"type\":\"Scatter\"},{\"attributes\":{\"margin\":[5,5,5,5],\"name\":\"HSpacer02060\",\"sizing_mode\":\"stretch_width\"},\"id\":\"1482\",\"type\":\"Spacer\"},{\"attributes\":{\"callback\":null,\"renderers\":[{\"id\":\"1295\"},{\"id\":\"1316\"},{\"id\":\"1338\"}],\"tags\":[\"hv_created\"],\"tooltips\":[[\"property ratings\",\"@{property_ratings}\"],[\"YEAR_BUILT\",\"@{YEAR_BUILT}\"],[\"NER_T4\",\"@{NER_T4}\"]]},\"id\":\"1250\",\"type\":\"HoverTool\"},{\"attributes\":{\"coordinates\":null,\"data_source\":{\"id\":\"1289\"},\"glyph\":{\"id\":\"1292\"},\"group\":null,\"hover_glyph\":null,\"muted_glyph\":{\"id\":\"1294\"},\"nonselection_glyph\":{\"id\":\"1293\"},\"selection_glyph\":{\"id\":\"1309\"},\"view\":{\"id\":\"1296\"}},\"id\":\"1295\",\"type\":\"GlyphRenderer\"},{\"attributes\":{\"fill_color\":{\"value\":\"#30a2da\"},\"hatch_color\":{\"value\":\"#30a2da\"},\"line_color\":{\"value\":\"#30a2da\"},\"size\":{\"value\":5.477225575051661},\"x\":{\"field\":\"YEAR_BUILT\"},\"y\":{\"field\":\"NER_T4\"}},\"id\":\"1292\",\"type\":\"Scatter\"},{\"attributes\":{\"source\":{\"id\":\"1289\"}},\"id\":\"1296\",\"type\":\"CDSView\"},{\"attributes\":{},\"id\":\"1287\",\"type\":\"BasicTickFormatter\"},{\"attributes\":{\"fill_alpha\":{\"value\":0.2},\"fill_color\":{\"value\":\"#30a2da\"},\"hatch_alpha\":{\"value\":0.2},\"hatch_color\":{\"value\":\"#30a2da\"},\"line_alpha\":{\"value\":0.2},\"line_color\":{\"value\":\"#30a2da\"},\"size\":{\"value\":5.477225575051661},\"x\":{\"field\":\"YEAR_BUILT\"},\"y\":{\"field\":\"NER_T4\"}},\"id\":\"1294\",\"type\":\"Scatter\"},{\"attributes\":{},\"id\":\"1288\",\"type\":\"AllLabels\"},{\"attributes\":{},\"id\":\"1260\",\"type\":\"LinearScale\"},{\"attributes\":{\"click_policy\":\"mute\",\"coordinates\":null,\"group\":null,\"items\":[{\"id\":\"1308\"},{\"id\":\"1330\"},{\"id\":\"1354\"}],\"location\":[0,0],\"title\":\"property ratings\"},\"id\":\"1307\",\"type\":\"Legend\"},{\"attributes\":{\"fill_alpha\":{\"value\":0.1},\"fill_color\":{\"value\":\"#e5ae38\"},\"hatch_alpha\":{\"value\":0.1},\"hatch_color\":{\"value\":\"#e5ae38\"},\"line_alpha\":{\"value\":0.1},\"line_color\":{\"value\":\"#e5ae38\"},\"size\":{\"value\":5.477225575051661},\"x\":{\"field\":\"YEAR_BUILT\"},\"y\":{\"field\":\"NER_T4\"}},\"id\":\"1336\",\"type\":\"Scatter\"},{\"attributes\":{\"label\":{\"value\":\"A\"},\"renderers\":[{\"id\":\"1295\"}]},\"id\":\"1308\",\"type\":\"LegendItem\"},{\"attributes\":{\"fill_color\":{\"value\":\"#fc4f30\"},\"hatch_color\":{\"value\":\"#fc4f30\"},\"line_color\":{\"value\":\"#fc4f30\"},\"size\":{\"value\":5.477225575051661},\"x\":{\"field\":\"YEAR_BUILT\"},\"y\":{\"field\":\"NER_T4\"}},\"id\":\"1313\",\"type\":\"Scatter\"},{\"attributes\":{\"below\":[{\"id\":\"1262\"}],\"center\":[{\"id\":\"1265\"},{\"id\":\"1269\"}],\"height\":300,\"left\":[{\"id\":\"1266\"}],\"margin\":[5,5,5,5],\"min_border_bottom\":10,\"min_border_left\":10,\"min_border_right\":10,\"min_border_top\":10,\"renderers\":[{\"id\":\"1295\"},{\"id\":\"1316\"},{\"id\":\"1338\"}],\"right\":[{\"id\":\"1307\"}],\"sizing_mode\":\"fixed\",\"title\":{\"id\":\"1254\"},\"toolbar\":{\"id\":\"1276\"},\"width\":700,\"x_range\":{\"id\":\"1248\"},\"x_scale\":{\"id\":\"1258\"},\"y_range\":{\"id\":\"1249\"},\"y_scale\":{\"id\":\"1260\"}},\"id\":\"1253\",\"subtype\":\"Figure\",\"type\":\"Plot\"},{\"attributes\":{\"source\":{\"id\":\"1310\"}},\"id\":\"1317\",\"type\":\"CDSView\"},{\"attributes\":{\"coordinates\":null,\"group\":null,\"text_color\":\"black\",\"text_font_size\":\"12pt\"},\"id\":\"1254\",\"type\":\"Title\"},{\"attributes\":{},\"id\":\"1263\",\"type\":\"BasicTicker\"},{\"attributes\":{\"axis\":{\"id\":\"1262\"},\"coordinates\":null,\"grid_line_color\":null,\"group\":null,\"ticker\":null},\"id\":\"1265\",\"type\":\"Grid\"},{\"attributes\":{\"axis_label\":\"YEAR_BUILT\",\"coordinates\":null,\"formatter\":{\"id\":\"1284\"},\"group\":null,\"major_label_policy\":{\"id\":\"1285\"},\"ticker\":{\"id\":\"1263\"}},\"id\":\"1262\",\"type\":\"LinearAxis\"},{\"attributes\":{\"angle\":{\"value\":0.0},\"fill_alpha\":{\"value\":1.0},\"fill_color\":{\"value\":\"#e5ae38\"},\"hatch_alpha\":{\"value\":1.0},\"hatch_color\":{\"value\":\"#e5ae38\"},\"hatch_scale\":{\"value\":12.0},\"hatch_weight\":{\"value\":1.0},\"line_alpha\":{\"value\":1.0},\"line_cap\":{\"value\":\"butt\"},\"line_color\":{\"value\":\"#e5ae38\"},\"line_dash\":{\"value\":[]},\"line_dash_offset\":{\"value\":0},\"line_join\":{\"value\":\"bevel\"},\"line_width\":{\"value\":1},\"marker\":{\"value\":\"circle\"},\"size\":{\"value\":5.477225575051661},\"x\":{\"field\":\"YEAR_BUILT\"},\"y\":{\"field\":\"NER_T4\"}},\"id\":\"1355\",\"type\":\"Scatter\"},{\"attributes\":{},\"id\":\"1351\",\"type\":\"UnionRenderers\"},{\"attributes\":{\"label\":{\"value\":\"B\"},\"renderers\":[{\"id\":\"1316\"}]},\"id\":\"1330\",\"type\":\"LegendItem\"},{\"attributes\":{},\"id\":\"1267\",\"type\":\"BasicTicker\"},{\"attributes\":{\"label\":{\"value\":\"C\"},\"renderers\":[{\"id\":\"1338\"}]},\"id\":\"1354\",\"type\":\"LegendItem\"},{\"attributes\":{\"fill_color\":{\"value\":\"#e5ae38\"},\"hatch_color\":{\"value\":\"#e5ae38\"},\"line_color\":{\"value\":\"#e5ae38\"},\"size\":{\"value\":5.477225575051661},\"x\":{\"field\":\"YEAR_BUILT\"},\"y\":{\"field\":\"NER_T4\"}},\"id\":\"1335\",\"type\":\"Scatter\"},{\"attributes\":{\"tools\":[{\"id\":\"1250\"},{\"id\":\"1270\"},{\"id\":\"1271\"},{\"id\":\"1272\"},{\"id\":\"1273\"},{\"id\":\"1274\"}]},\"id\":\"1276\",\"type\":\"Toolbar\"},{\"attributes\":{},\"id\":\"1271\",\"type\":\"PanTool\"},{\"attributes\":{\"coordinates\":null,\"data_source\":{\"id\":\"1332\"},\"glyph\":{\"id\":\"1335\"},\"group\":null,\"hover_glyph\":null,\"muted_glyph\":{\"id\":\"1337\"},\"nonselection_glyph\":{\"id\":\"1336\"},\"selection_glyph\":{\"id\":\"1355\"},\"view\":{\"id\":\"1339\"}},\"id\":\"1338\",\"type\":\"GlyphRenderer\"},{\"attributes\":{},\"id\":\"1285\",\"type\":\"AllLabels\"},{\"attributes\":{\"axis_label\":\"NER_T4\",\"coordinates\":null,\"formatter\":{\"id\":\"1287\"},\"group\":null,\"major_label_policy\":{\"id\":\"1288\"},\"ticker\":{\"id\":\"1267\"}},\"id\":\"1266\",\"type\":\"LinearAxis\"},{\"attributes\":{\"source\":{\"id\":\"1332\"}},\"id\":\"1339\",\"type\":\"CDSView\"},{\"attributes\":{},\"id\":\"1272\",\"type\":\"WheelZoomTool\"},{\"attributes\":{\"fill_alpha\":{\"value\":0.2},\"fill_color\":{\"value\":\"#e5ae38\"},\"hatch_alpha\":{\"value\":0.2},\"hatch_color\":{\"value\":\"#e5ae38\"},\"line_alpha\":{\"value\":0.2},\"line_color\":{\"value\":\"#e5ae38\"},\"size\":{\"value\":5.477225575051661},\"x\":{\"field\":\"YEAR_BUILT\"},\"y\":{\"field\":\"NER_T4\"}},\"id\":\"1337\",\"type\":\"Scatter\"},{\"attributes\":{\"angle\":{\"value\":0.0},\"fill_alpha\":{\"value\":1.0},\"fill_color\":{\"value\":\"#30a2da\"},\"hatch_alpha\":{\"value\":1.0},\"hatch_color\":{\"value\":\"#30a2da\"},\"hatch_scale\":{\"value\":12.0},\"hatch_weight\":{\"value\":1.0},\"line_alpha\":{\"value\":1.0},\"line_cap\":{\"value\":\"butt\"},\"line_color\":{\"value\":\"#30a2da\"},\"line_dash\":{\"value\":[]},\"line_dash_offset\":{\"value\":0},\"line_join\":{\"value\":\"bevel\"},\"line_width\":{\"value\":1},\"marker\":{\"value\":\"circle\"},\"size\":{\"value\":5.477225575051661},\"x\":{\"field\":\"YEAR_BUILT\"},\"y\":{\"field\":\"NER_T4\"}},\"id\":\"1309\",\"type\":\"Scatter\"},{\"attributes\":{\"axis\":{\"id\":\"1266\"},\"coordinates\":null,\"dimension\":1,\"grid_line_color\":null,\"group\":null,\"ticker\":null},\"id\":\"1269\",\"type\":\"Grid\"},{\"attributes\":{},\"id\":\"1270\",\"type\":\"SaveTool\"},{\"attributes\":{\"children\":[{\"id\":\"1247\"},{\"id\":\"1253\"},{\"id\":\"1482\"}],\"margin\":[0,0,0,0],\"name\":\"Row02055\",\"tags\":[\"embedded\"]},\"id\":\"1246\",\"type\":\"Row\"},{\"attributes\":{\"overlay\":{\"id\":\"1275\"}},\"id\":\"1273\",\"type\":\"BoxZoomTool\"},{\"attributes\":{},\"id\":\"1290\",\"type\":\"Selection\"},{\"attributes\":{},\"id\":\"1274\",\"type\":\"ResetTool\"},{\"attributes\":{\"angle\":{\"value\":0.0},\"fill_alpha\":{\"value\":1.0},\"fill_color\":{\"value\":\"#fc4f30\"},\"hatch_alpha\":{\"value\":1.0},\"hatch_color\":{\"value\":\"#fc4f30\"},\"hatch_scale\":{\"value\":12.0},\"hatch_weight\":{\"value\":1.0},\"line_alpha\":{\"value\":1.0},\"line_cap\":{\"value\":\"butt\"},\"line_color\":{\"value\":\"#fc4f30\"},\"line_dash\":{\"value\":[]},\"line_dash_offset\":{\"value\":0},\"line_join\":{\"value\":\"bevel\"},\"line_width\":{\"value\":1},\"marker\":{\"value\":\"circle\"},\"size\":{\"value\":5.477225575051661},\"x\":{\"field\":\"YEAR_BUILT\"},\"y\":{\"field\":\"NER_T4\"}},\"id\":\"1331\",\"type\":\"Scatter\"},{\"attributes\":{\"fill_alpha\":{\"value\":0.1},\"fill_color\":{\"value\":\"#fc4f30\"},\"hatch_alpha\":{\"value\":0.1},\"hatch_color\":{\"value\":\"#fc4f30\"},\"line_alpha\":{\"value\":0.1},\"line_color\":{\"value\":\"#fc4f30\"},\"size\":{\"value\":5.477225575051661},\"x\":{\"field\":\"YEAR_BUILT\"},\"y\":{\"field\":\"NER_T4\"}},\"id\":\"1314\",\"type\":\"Scatter\"},{\"attributes\":{\"data\":{\"NER_T4\":{\"__ndarray__\":\"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\",\"dtype\":\"float64\",\"order\":\"little\",\"shape\":[207]},\"YEAR_BUILT\":[1986,1983,1984,1983,1972,1986,1985,1974,2000,1985,1975,1986,1969,1985,1988,1983,1987,1985,1983,1962,1987,2003,1973,1989,1981,1981,1986,1974,1985,1988,1984,1986,1969,1980,1985,1985,1970,1980,1985,1981,1983,1975,1983,1983,1974,1980,1963,1974,1985,1986,1984,1985,1979,1985,1985,1986,1983,1989,1981,1980,1986,1983,1987,1971,1984,1985,1979,1963,1987,1984,1985,1986,1984,1974,1984,1984,1984,1972,1970,1982,1986,1978,1987,1973,1972,1985,1985,1984,1949,1984,1980,1943,1974,1983,1970,1982,1984,1971,1980,1984,1979,1986,1985,1964,1979,1971,1970,1978,1984,1975,1988,1979,1982,1976,1966,1974,1979,1974,1980,1986,1973,1973,1980,1984,1963,1971,1963,1975,1987,1986,1978,1980,1985,1985,1986,1984,1985,1985,1984,1985,1983,2015,1985,1987,1972,2002,1974,2003,1975,1970,1985,1982,1971,1985,1985,1986,1983,1985,1971,1986,1982,1986,1983,1982,1979,1971,1985,1986,1980,1975,1986,1964,1979,1985,1985,1977,1985,1980,1983,1986,1985,1978,1989,1983,1984,1986,1989,1985,1981,1970,1981,1982,1984,1984,1969,1974,1979,1985,1986,1986,1977,1972,1986,1982,1982,1982,1980],\"property_ratings\":[\"C\",\"C\",\"C\",\"C\",\"C\",\"C\",\"C\",\"C\",\"C\",\"C\",\"C\",\"C\",\"C\",\"C\",\"C\",\"C\",\"C\",\"C\",\"C\",\"C\",\"C\",\"C\",\"C\",\"C\",\"C\",\"C\",\"C\",\"C\",\"C\",\"C\",\"C\",\"C\",\"C\",\"C\",\"C\",\"C\",\"C\",\"C\",\"C\",\"C\",\"C\",\"C\",\"C\",\"C\",\"C\",\"C\",\"C\",\"C\",\"C\",\"C\",\"C\",\"C\",\"C\",\"C\",\"C\",\"C\",\"C\",\"C\",\"C\",\"C\",\"C\",\"C\",\"C\",\"C\",\"C\",\"C\",\"C\",\"C\",\"C\",\"C\",\"C\",\"C\",\"C\",\"C\",\"C\",\"C\",\"C\",\"C\",\"C\",\"C\",\"C\",\"C\",\"C\",\"C\",\"C\",\"C\",\"C\",\"C\",\"C\",\"C\",\"C\",\"C\",\"C\",\"C\",\"C\",\"C\",\"C\",\"C\",\"C\",\"C\",\"C\",\"C\",\"C\",\"C\",\"C\",\"C\",\"C\",\"C\",\"C\",\"C\",\"C\",\"C\",\"C\",\"C\",\"C\",\"C\",\"C\",\"C\",\"C\",\"C\",\"C\",\"C\",\"C\",\"C\",\"C\",\"C\",\"C\",\"C\",\"C\",\"C\",\"C\",\"C\",\"C\",\"C\",\"C\",\"C\",\"C\",\"C\",\"C\",\"C\",\"C\",\"C\",\"C\",\"C\",\"C\",\"C\",\"C\",\"C\",\"C\",\"C\",\"C\",\"C\",\"C\",\"C\",\"C\",\"C\",\"C\",\"C\",\"C\",\"C\",\"C\",\"C\",\"C\",\"C\",\"C\",\"C\",\"C\",\"C\",\"C\",\"C\",\"C\",\"C\",\"C\",\"C\",\"C\",\"C\",\"C\",\"C\",\"C\",\"C\",\"C\",\"C\",\"C\",\"C\",\"C\",\"C\",\"C\",\"C\",\"C\",\"C\",\"C\",\"C\",\"C\",\"C\",\"C\",\"C\",\"C\",\"C\",\"C\",\"C\",\"C\",\"C\",\"C\",\"C\",\"C\",\"C\",\"C\"]},\"selected\":{\"id\":\"1333\"},\"selection_policy\":{\"id\":\"1351\"}},\"id\":\"1332\",\"type\":\"ColumnDataSource\"},{\"attributes\":{},\"id\":\"1284\",\"type\":\"BasicTickFormatter\"},{\"attributes\":{\"margin\":[5,5,5,5],\"name\":\"HSpacer02059\",\"sizing_mode\":\"stretch_width\"},\"id\":\"1247\",\"type\":\"Spacer\"},{\"attributes\":{},\"id\":\"1311\",\"type\":\"Selection\"},{\"attributes\":{},\"id\":\"1333\",\"type\":\"Selection\"},{\"attributes\":{\"coordinates\":null,\"data_source\":{\"id\":\"1310\"},\"glyph\":{\"id\":\"1313\"},\"group\":null,\"hover_glyph\":null,\"muted_glyph\":{\"id\":\"1315\"},\"nonselection_glyph\":{\"id\":\"1314\"},\"selection_glyph\":{\"id\":\"1331\"},\"view\":{\"id\":\"1317\"}},\"id\":\"1316\",\"type\":\"GlyphRenderer\"},{\"attributes\":{\"bottom_units\":\"screen\",\"coordinates\":null,\"fill_alpha\":0.5,\"fill_color\":\"lightgrey\",\"group\":null,\"left_units\":\"screen\",\"level\":\"overlay\",\"line_alpha\":1.0,\"line_color\":\"black\",\"line_dash\":[4,4],\"line_width\":2,\"right_units\":\"screen\",\"syncable\":false,\"top_units\":\"screen\"},\"id\":\"1275\",\"type\":\"BoxAnnotation\"},{\"attributes\":{\"end\":2612.428679,\"reset_end\":2612.428679,\"reset_start\":797.664695,\"start\":797.664695,\"tags\":[[[\"NER_T4\",\"NER_T4\",null]]]},\"id\":\"1249\",\"type\":\"Range1d\"},{\"attributes\":{\"end\":2023.3,\"reset_end\":2023.3,\"reset_start\":1939.7,\"start\":1939.7,\"tags\":[[[\"YEAR_BUILT\",\"YEAR_BUILT\",null]]]},\"id\":\"1248\",\"type\":\"Range1d\"},{\"attributes\":{\"fill_alpha\":{\"value\":0.2},\"fill_color\":{\"value\":\"#fc4f30\"},\"hatch_alpha\":{\"value\":0.2},\"hatch_color\":{\"value\":\"#fc4f30\"},\"line_alpha\":{\"value\":0.2},\"line_color\":{\"value\":\"#fc4f30\"},\"size\":{\"value\":5.477225575051661},\"x\":{\"field\":\"YEAR_BUILT\"},\"y\":{\"field\":\"NER_T4\"}},\"id\":\"1315\",\"type\":\"Scatter\"},{\"attributes\":{\"data\":{\"NER_T4\":{\"__ndarray__\":\"xlBOtBu9mkB5lbVNUSydQA70UNu2bJ9AmurJ/AtTokDcEU4LtumhQJGA0eXl4qJAoDL+fUaJnkBhcM0dvZGcQOOON/ldrZ1AaRzqd4luoUCSzOodHkabQPhPN1BQxJpA4UbKFsnXnkCjyFpDeZKfQIy8rImdb6JA1bMglNebnkAZVBucaOWdQJSjAFHgCaFApaKx9vdCnECE8GjjeO+dQAQEc/RAGqNA8s6hDB0doUBE3JxKVpaZQE1okljyp5xAT64pkEnFn0CX4T/d4JGZQLb2PlU1raBATfT5KAMxnkBljuVd9XyaQDpAMEff9KBA2epyShATnkClaOVe8I+bQJdzKa5aep1AfZV87CaSokCV1AloArScQMzwn26wZ51AWRe30QApnkBT6pJxHBKeQDIge71jUKJA5ULlX7tOnECwOQfPxH+bQNDVVuyvvZ5A5L7VOrFznUAhc2VQfZ2bQITwaOM4yaBAowG8BTKAnUAKavgW5h+dQEC/79+cKJ1Ao8haQ3njoUDWHCCY8+KgQDdxcr/bZqFAhPBo4zjbm0DtKTknFhidQCZSms3bZKBACtgORowamkBI/Io1fMidQNTxmIEalp5AHXIz3BjPoEBmZmZm5laeQL73N2gvy5xA1XYTfCN4mkB8DFacavSgQO4G0VoRqJ5AStQLPs1qnkDkTX6LXkWiQByVm6i1PaFA8N3mjeNkmkAZxt0gekyeQGPS30uRX5xAz/V9OGjLn0ChTQ6f9OKcQGztfaraMaJAM/lmmxsQoECcbtkh5lWgQBnjw+wlbJ5A/FOqRLEDo0AqUmFskUicQFbzHJHPhp1AMzMzM7Ncn0AKv9TPY8ihQIGxvoFZGKBA8j/5uxcRnUCZucDlqcOgQGXCL/UDr59ALVvri5zroEAfSUkP40ScQLiumBG2l6FAHTnSGYhcokASpb3BB/+aQIXsvI1lOqNAqcDJNrCFoEDcm98wEXudQA0a+idoS5tAMevFUJ4eoEDLun8sZBueQPmf/N2TS6FAeoocIv5PmUAfgqrRK7OaQLb2PlWFN55Ak3Ahj9CaokCkpl1MwxafQE+Q2O7u9ptAhh3GpE9gnUCreY7Ih1GfQGL1RxgG/5xAYY4ev+dmnEBgWWlSSv2fQPaX3ZMXMptAYCFzZcBNnUAxPzc0dYycQMyWrIqg3ZpA6gjgZnlcokCamZmZ2c2dQLNBJhlxAqBAsMka9aDWm0DzPLg7G9ObQDC9/bnoPp1An1inyufnnEAtlbcj3CmgQKuvrgqE96BAUHPyIqPCn0DKqZ1h6s2fQLEYda2tzZ1Axf8dUdEsn0CdLSC0dg+hQOf7qfHSH5xAtMnhk37CokAAAAAAAKagQK5H4XoUvZlAmX/0TeromkDKwWwCFDCgQPImv0X3IZ1AnwWhvM8Gn0DAsz160+WeQCKq8Gc42plAxqNUwjN4m0AIza57WwmeQCgrhqvTo59AO44fKh1aoEC+9syS2L6hQPImv0UXvZxAVU0Qdd9hm0A34sluliugQGbc1EDbjaBAequuQwUWoEAzMzMzM4eeQJxOstVVGJ5AU8xB0FGWn0Cmtz8XnTSiQEPnNXZZjJ1AAAAAAGA6nkB/pIgMq3GaQCGwcmjhRZxAj8U2qeABoEDMzw1N2WyeQJHT1/MF4ZtA4uXpXCGeoEDChNGsbECdQJeo3hr4rJpAP41788vOnUCXcVMDHamfQBVzEHRUCKBArwYoDaW7nECd81Mcx2aeQMa+ZOMJnqFAAn6NJEkaoECamZmZmQufQKRwPQpXW5tABaVo5Z62oECi1F5EK6aaQFoNiXu89J1A7l9ZaTJomkDThy6ov0qeQAg57/8zIp5A\",\"dtype\":\"float64\",\"order\":\"little\",\"shape\":[174]},\"YEAR_BUILT\":[2018,2017,2008,1998,2013,2019,2018,2020,2017,2018,2017,2018,2016,2017,2015,2007,2015,2005,2014,2017,2016,2017,2020,2017,2020,2020,1999,2020,2019,2013,2018,2018,2017,1995,2017,2015,2019,2020,2017,2016,2019,2019,2013,2020,2020,2008,2016,2020,2014,2017,2018,2020,2016,2019,2016,2017,2018,2001,2017,2020,2018,2013,2018,2018,2013,2018,2018,2014,2016,2007,2017,2009,2018,2017,2020,2019,2013,2014,2019,2018,2020,2019,2014,2016,2016,2020,2017,2014,2017,2014,2012,2018,2018,2015,2020,2001,2019,2018,2020,2014,2012,2020,2019,2014,2019,2019,2015,2018,2016,2016,2019,2015,2017,2017,2019,2020,2017,2017,2019,2018,2018,2015,2017,2019,1999,2016,2019,2014,2019,2017,2014,2020,2016,2018,2016,2016,2020,2007,2017,2018,2009,2020,2013,2019,2015,2020,2019,2014,2014,2015,2017,2020,2019,2014,2017,2019,2017,2018,2018,2008,2018,2016,2015,2014,1999,2019,2005,2019,2014,2018,2019,2018,2015,2020],\"property_ratings\":[\"A\",\"A\",\"A\",\"A\",\"A\",\"A\",\"A\",\"A\",\"A\",\"A\",\"A\",\"A\",\"A\",\"A\",\"A\",\"A\",\"A\",\"A\",\"A\",\"A\",\"A\",\"A\",\"A\",\"A\",\"A\",\"A\",\"A\",\"A\",\"A\",\"A\",\"A\",\"A\",\"A\",\"A\",\"A\",\"A\",\"A\",\"A\",\"A\",\"A\",\"A\",\"A\",\"A\",\"A\",\"A\",\"A\",\"A\",\"A\",\"A\",\"A\",\"A\",\"A\",\"A\",\"A\",\"A\",\"A\",\"A\",\"A\",\"A\",\"A\",\"A\",\"A\",\"A\",\"A\",\"A\",\"A\",\"A\",\"A\",\"A\",\"A\",\"A\",\"A\",\"A\",\"A\",\"A\",\"A\",\"A\",\"A\",\"A\",\"A\",\"A\",\"A\",\"A\",\"A\",\"A\",\"A\",\"A\",\"A\",\"A\",\"A\",\"A\",\"A\",\"A\",\"A\",\"A\",\"A\",\"A\",\"A\",\"A\",\"A\",\"A\",\"A\",\"A\",\"A\",\"A\",\"A\",\"A\",\"A\",\"A\",\"A\",\"A\",\"A\",\"A\",\"A\",\"A\",\"A\",\"A\",\"A\",\"A\",\"A\",\"A\",\"A\",\"A\",\"A\",\"A\",\"A\",\"A\",\"A\",\"A\",\"A\",\"A\",\"A\",\"A\",\"A\",\"A\",\"A\",\"A\",\"A\",\"A\",\"A\",\"A\",\"A\",\"A\",\"A\",\"A\",\"A\",\"A\",\"A\",\"A\",\"A\",\"A\",\"A\",\"A\",\"A\",\"A\",\"A\",\"A\",\"A\",\"A\",\"A\",\"A\",\"A\",\"A\",\"A\",\"A\",\"A\",\"A\",\"A\",\"A\",\"A\",\"A\",\"A\",\"A\",\"A\"]},\"selected\":{\"id\":\"1290\"},\"selection_policy\":{\"id\":\"1304\"}},\"id\":\"1289\",\"type\":\"ColumnDataSource\"}],\"root_ids\":[\"1246\"]},\"title\":\"Bokeh Application\",\"version\":\"2.4.2\"}};\n",
       "    var render_items = [{\"docid\":\"2bc86372-dc32-4b44-9a86-92025d8e0c83\",\"root_ids\":[\"1246\"],\"roots\":{\"1246\":\"847ed16d-23fc-441e-a557-0045a6992bf6\"}}];\n",
       "    root.Bokeh.embed.embed_items_notebook(docs_json, render_items);\n",
       "  }\n",
       "  if (root.Bokeh !== undefined && root.Bokeh.Panel !== undefined) {\n",
       "    embed_document(root);\n",
       "  } else {\n",
       "    var attempts = 0;\n",
       "    var timer = setInterval(function(root) {\n",
       "      if (root.Bokeh !== undefined && root.Bokeh.Panel !== undefined) {\n",
       "        clearInterval(timer);\n",
       "        embed_document(root);\n",
       "      } else if (document.readyState == \"complete\") {\n",
       "        attempts++;\n",
       "        if (attempts > 200) {\n",
       "          clearInterval(timer);\n",
       "          console.log(\"Bokeh: ERROR: Unable to run BokehJS code because BokehJS library is missing\");\n",
       "        }\n",
       "      }\n",
       "    }, 25, root)\n",
       "  }\n",
       "})(window);</script>"
      ],
      "text/plain": [
       ":NdOverlay   [property ratings]\n",
       "   :Scatter   [YEAR_BUILT]   (NER_T4)"
      ]
     },
     "execution_count": 40,
     "metadata": {
      "application/vnd.holoviews_exec.v0+json": {
       "id": "1246"
      }
     },
     "output_type": "execute_result"
    }
   ],
   "source": [
    "# Plot the data points based on the customer rating\n",
    "result.hvplot.scatter(\n",
    "    x=\"YEAR_BUILT\", \n",
    "    y=\"NER_T4\", \n",
    "    by=\"property ratings\"\n",
    ")"
   ]
  },
  {
   "cell_type": "code",
   "execution_count": 41,
   "metadata": {},
   "outputs": [
    {
     "data": {
      "text/plain": [
       "B    221\n",
       "C    207\n",
       "A    174\n",
       "Name: property ratings, dtype: int64"
      ]
     },
     "execution_count": 41,
     "metadata": {},
     "output_type": "execute_result"
    }
   ],
   "source": [
    "year_and_ner_predictions_df['property ratings'].value_counts()\n",
    "\n",
    "# add average square feet"
   ]
  }
 ],
 "metadata": {
  "kernelspec": {
   "display_name": "Python 3 (ipykernel)",
   "language": "python",
   "name": "python3"
  },
  "language_info": {
   "codemirror_mode": {
    "name": "ipython",
    "version": 3
   },
   "file_extension": ".py",
   "mimetype": "text/x-python",
   "name": "python",
   "nbconvert_exporter": "python",
   "pygments_lexer": "ipython3",
   "version": "3.9.12"
  }
 },
 "nbformat": 4,
 "nbformat_minor": 4
}
